{
 "cells": [
  {
   "cell_type": "code",
   "execution_count": 1,
   "metadata": {},
   "outputs": [],
   "source": [
    "import ollama\n",
    "import os\n",
    "import requests\n",
    "import pandas as pd\n",
    "import json\n",
    "# import sys\n",
    "import fiona\n",
    "\n",
    "#functions:\n",
    "from flood_functions import get_svi_stats_and_tracts, get_flash_flood_warnings, get_flood_data, get_flood_map, chat_function\n",
    "\n",
    "\n",
    "#signatures:\n",
    "signatures_path = \"C:\\\\Users\\\\kimia\\\\OneDrive\\\\Documents\\\\Python Scripts\\\\FloodLlama\\\\signatures.txt\"\n",
    "\n",
    "\n",
    "\n",
    "#question = \"What are the current flood alerts for the New Orleans area? \"\n",
    "# question= \"\"\"For the \"Lakeview neighborhood in New Orleans which is Located near Lake Pontchartrain\", can you provide SVI statistics for Household Characteristics Theme with an SVI score smaller than 0.5?\"\"\"\n",
    "#question =\"\"\"Is there any possible flood alert in Florida?\"\"\"\n",
    "# question = \"\"\"when was the last time we had flood in San Antonio,Texas?\"\"\"\n",
    "# question = \"When was the last time we had flood in Middlesex County, New Jersey?\" \n",
    "question= \"For Middlesex County in Massachusetts please provide SVI statistics for Household Characteristics Theme with an SVI score smaller than 0.5\"\n",
    "\n",
    "Instruction = \"\"\"\\n\\n use the below function signutres and provide answer so that I can use the correct function.\\n\\n\"\"\"\n",
    "\n",
    "\n",
    "# Read the content of the signatures.txt file\n",
    "with open(signatures_path, 'r',encoding= \"utf8\") as file:\n",
    "    prompt = file.read()\n",
    "\n",
    "prompt2 = f\"[INST] \" + Instruction \n",
    "prompt += f\"\"\"{question}[/INST]\"\"\"\n",
    "\n",
    "#test1\n",
    "#print(prompt)\n",
    "\n",
    "#test2(functions_calling_SVI)\n",
    "# print(get_svi_stats_and_tracts(\"NJ\",\"Middlesex County\",\"RPL_THEME4\",\">\",0.08))\n",
    "\n",
    "#test3(function_calling_warning)\n",
    "# print(get_flash_flood_warnings(\"FL\"))\n",
    "\n",
    "# test3(function_calling_data)\n",
    "# print(get_flood_data(\"1130 Jaguar Pkwy San Antonio TX 78224\"))\n",
    "#94 Bayard St New Brunswick NJ 08901\n"
   ]
  },
  {
   "cell_type": "code",
   "execution_count": 2,
   "metadata": {},
   "outputs": [
    {
     "name": "stdout",
     "output_type": "stream",
     "text": [
      "\"\"\"<FUNCTIONS>{\n",
      "    \"function\": \"get_svi_stats_and_tracts\",\n",
      "    \"description\": \"Retrieve Social Vulnerability Index (SVI) statistics based on user-specified criteria and display census tract on map with SVI index. State abbreviation, county, theme,                     operation and threshold must always be specified.\",\n",
      "    \"arguments\": [\n",
      "        {\n",
      "            \"name\": \"state_abbr\",\n",
      "            \"type\": \"string\",\n",
      "            \"description\": \"The state abbreviation (e.g., 'NJ').\"\n",
      "        },\n",
      "        {\n",
      "            \"name\": \"county\",\n",
      "            \"type\": \"string\",\n",
      "            \"description\": \"The county name (e.g., 'Middlesex').\"\n",
      "        },\n",
      "        {\n",
      "            \"name\": \"theme\",\n",
      "            \"type\": \"string\",\n",
      "            \"description\": \"The SVI theme to analyze. Choose from the following options:                                  - RPL_THEME1 (SVI for Socioeconomic Status theme);                                  - RPL_THEME2 (SVI for Household Characteristics theme);                                 - RPL_THEME3 (SVI for Racial and Ethnic Minority Status theme);                                 - RPL_THEME4 (SVI for Housing Type/Transportation theme);                                 - RPL_THEMES (Overall SVI)\",\n",
      "            \"enum\": [\n",
      "                \"RPL_THEME1\",\n",
      "                \"RPL_THEME2\",\n",
      "                \"RPL_THEME3\",\n",
      "                \"RPL_THEME4\",\n",
      "                \"RPL_THEMES\"\n",
      "            ]\n",
      "        },\n",
      "        {\n",
      "            \"name\": \"op\",\n",
      "            \"type\": \"string\",\n",
      "            \"description\": \"Operation of interest, e.g. less than, use '<'.\",\n",
      "            \"enum\": [\n",
      "                \"<\",\n",
      "                \"<=\",\n",
      "                \"=>\",\n",
      "                \">\"\n",
      "            ]\n",
      "        },\n",
      "        {\n",
      "            \"name\": \"threshold\",\n",
      "            \"type\": \"number\",\n",
      "            \"description\": \"Threshold value for comparison from 0 to 1, e.g. 0.6. Vulnerability thresholds are: 'Low': 0.249, 'Low-Medium': 0.49, 'Medium-High': 0.50, 'High': 0.75. 90th percentile flag vulnerability is >=0.90 index score.\"\n",
      "        }\n",
      "    ]\n",
      "}{\n",
      "    \"function\": \"get_flash_flood_warnings\",\n",
      "    \"description\": \"Get flash flood warnings for a given location using the National Weather Service (NWS) API.\",\n",
      "    \"arguments\": [\n",
      "        {\n",
      "            \"name\": \"location\",\n",
      "            \"type\": [\n",
      "                \"string\",\n",
      "                \"null\"\n",
      "            ],\n",
      "            \"description\": \"The state abbreviation in uppercase for which state you want to retrieve flash flood warnings (e.g., 'NJ'). Use 'null' or omit this parameter to search for flash flood warnings in the entire US.\"\n",
      "        }\n",
      "    ]\n",
      "}\n",
      "signature_get_flood_map = {\n",
      "    \"name\": \"get_flood_map\",\n",
      "    \"description\": \"Directly display interactive flood map for a given location using FEMA Flood Map. User may also see the downloaded static flood map as 'output_static_map.png'. The map displayed has the following flood zone legends:A: An area with a 1% annual chance of flood; does not have base flood elevations (BFEs) available. B, X500:An area with at least a 0.2% chance of annual flood or with a 1% annual chance of flood with average depths less that one foot or with drainage area less than one square mile. (C is the older designation and X500 is the current designation. C, X: An area outside the 0.2% and 1% annual chance of flood regions. (C is the older designation and X500 is the current designation.) D: An area where flooding is possible but has not been studied. V:An area with a 1% annual chance flooding with velocity hazard due to waves; BFEs have are not available.\",\n",
      "    \"parameters\": {\n",
      "        \"type\": \"object\",\n",
      "        \"properties\": {\n",
      "            \"latitude\": {\n",
      "                \"type\": \"number\",\n",
      "                \"description\": \"The latitude coordinate of interest in standard geographic coordinate system. For example, 34.071783. Please include negative numbers to represent directions.\"\n",
      "            },\n",
      "            \"longitude\": {\n",
      "                \"type\": \"number\",\n",
      "                \"description\": \"The longitude coordinate of interest in standard geographic coordinate system. For example, -113.2596. Please include negative numbers to represent directions.\"\n",
      "            },\n",
      "            \"zoom\": {\n",
      "                \"type\": [\"integer\", \"null\"],\n",
      "                \"description\": \"Integer parameter between 6 (low zoom) and 17 (high zoom). Use 'null' when zoom is not specified. \"\n",
      "            }\n",
      "        }\n",
      "    }\n",
      "}\n",
      "signature_get_flood_data = {\n",
      "    \"name\": \"get_flood_data\",\n",
      "    \"description\": \"Get Fema flood data by address. The query returns flood data for the provided address, including information about the flood zone, Special Flood Hazard Area (SFHA), and related details. Additionally, it provides geocoding information, such as the latitude, longitude, and match level for the given address.\",\n",
      "    \"parameters\": {\n",
      "        \"type\": \"object\",\n",
      "        \"properties\": {\n",
      "            \"address\": {\n",
      "                \"type\": \"string\",\n",
      "                \"description\": \"The address of interest. Example: address=12 Maple Pl Mapleville KS 12345 address with street number, street type, city, state, zip and without punctuation. Do not include 4 digit zipcode extension.\"\n",
      "            }\n",
      "        }\n",
      "    }\n",
      "}</FUNCTIONS>\"\"\"\n",
      "For Middlesex County in Massachusetts please provide SVI statistics for Household Characteristics Theme with an SVI score smaller than 0.5[/INST]\n"
     ]
    }
   ],
   "source": [
    "print(prompt)"
   ]
  },
  {
   "cell_type": "code",
   "execution_count": 3,
   "metadata": {},
   "outputs": [
    {
     "name": "stdout",
     "output_type": "stream",
     "text": [
      "{\n",
      "    \"function\": \"get_svi_stats_and_tracts\",\n",
      "    \"arguments\": {\n",
      "        \"state_abbr\": \"MA\",\n",
      "        \"county\": \"Middlesex\",\n",
      "        \"theme\": \"RPL_THEME2\",\n",
      "        \"op\": \"<\",\n",
      "        \"threshold\": 0.5\n",
      "    }\n",
      "}\n",
      "------------------\n"
     ]
    }
   ],
   "source": [
    "result = ollama.generate(\"llama2_function_calling_q3\",prompt)\n",
    "response = result['response']\n",
    "sample_answer = response.strip()\n",
    "print(response)\n",
    "print(\"------------------\")"
   ]
  },
  {
   "cell_type": "code",
   "execution_count": 4,
   "metadata": {},
   "outputs": [
    {
     "name": "stdout",
     "output_type": "stream",
     "text": [
      "get_svi_stats_and_tracts\n",
      "['MA', 'Middlesex', 'RPL_THEME2', '<', 0.5]\n",
      "------------------------\n"
     ]
    }
   ],
   "source": [
    "\n",
    "sample_answer_dict = eval(sample_answer)\n",
    "function_name = sample_answer_dict['function']\n",
    "arguments = list(sample_answer_dict['arguments'].values())\n",
    "print(function_name)\n",
    "print(arguments)\n",
    "print(\"------------------------\")"
   ]
  },
  {
   "cell_type": "code",
   "execution_count": 5,
   "metadata": {},
   "outputs": [
    {
     "name": "stdout",
     "output_type": "stream",
     "text": [
      "{\"Statistics\":{\"Total_Areas\":1,\"Max_SVI\":0.062,\"Min_SVI\":0.062,\"Average_SVI\":0.062},\"Census_Tracts\":[{\"FIPS\":25017,\"RPL_THEME2\":0.062}]}\n"
     ]
    }
   ],
   "source": [
    "result = eval(f\"globals()['{function_name}'](*arguments)\")\n",
    "print(result)"
   ]
  },
  {
   "cell_type": "code",
   "execution_count": 6,
   "metadata": {},
   "outputs": [],
   "source": [
    "second_prompt = f\"\"\"please polish the following answer based on the following question, coherent and human readble question:[BOS]{question}[EOS],\n",
    "***\n",
    "Answer:[BOS]\"\"\"+result+\"\"\"[EOS]\"\"\""
   ]
  },
  {
   "cell_type": "code",
   "execution_count": 8,
   "metadata": {},
   "outputs": [
    {
     "name": "stdout",
     "output_type": "stream",
     "text": [
      "{'model': 'llama2_chat_q2', 'created_at': '2024-09-25T15:51:08.2836924Z', 'response': 'Please polish the answer by making it more coherent and human readable, also provide additional details and explanations for the SVI statistics provided.', 'done': True, 'done_reason': 'stop', 'context': [529, 29989, 2962, 29918, 6672, 29918, 333, 29989, 29958, 1792, 29966, 29989, 355, 29918, 6672, 29918, 333, 29989, 3238, 13, 30004, 13, 552, 559, 1248, 728, 278, 1494, 1234, 2729, 373, 278, 1494, 1139, 29892, 16165, 261, 296, 322, 5199, 1303, 569, 1139, 10834, 29933, 3267, 29962, 2831, 341, 2205, 793, 735, 5127, 297, 16167, 3113, 3867, 13955, 29902, 13964, 363, 5619, 8948, 26804, 6765, 498, 2004, 411, 385, 13955, 29902, 8158, 7968, 1135, 29871, 29900, 29889, 29945, 29961, 29923, 3267, 1402, 13, 17435, 13, 22550, 10834, 29933, 3267, 3199, 29908, 9513, 6765, 28819, 11536, 29918, 29909, 12588, 1115, 29896, 1699, 7976, 29918, 7597, 29902, 1115, 29900, 29889, 29900, 29953, 29906, 1699, 8140, 29918, 7597, 29902, 1115, 29900, 29889, 29900, 29953, 29906, 1699, 29909, 19698, 29918, 7597, 29902, 1115, 29900, 29889, 29900, 29953, 29906, 1118, 29908, 29907, 8841, 29918, 29911, 1461, 29879, 1115, 29961, 6377, 3738, 7024, 1115, 29906, 29945, 29900, 29896, 29955, 1699, 29934, 7390, 29918, 28350, 2303, 29906, 1115, 29900, 29889, 29900, 29953, 29906, 6525, 4400, 29923, 3267, 29962, 29966, 29989, 29872, 327, 29918, 333, 29989, 5299, 29989, 2962, 29918, 6672, 29918, 333, 29989, 29958, 465, 22137, 29966, 29989, 355, 29918, 6672, 29918, 333, 29989, 3238, 13, 30004, 13, 12148, 1248, 728, 278, 1234, 491, 3907, 372, 901, 16165, 261, 296, 322, 5199, 19909, 29892, 884, 3867, 5684, 4902, 322, 7309, 800, 363, 278, 13955, 29902, 13964, 4944, 29889], 'total_duration': 9351533600, 'load_duration': 27501800, 'prompt_eval_count': 202, 'prompt_eval_duration': 308792000, 'eval_count': 31, 'eval_duration': 9008667000}\n"
     ]
    }
   ],
   "source": [
    "final_result = ollama.generate('llama2_chat_q2', second_prompt)\n",
    "print(final_result)"
   ]
  },
  {
   "cell_type": "code",
   "execution_count": 10,
   "metadata": {},
   "outputs": [
    {
     "name": "stdout",
     "output_type": "stream",
     "text": [
      "<s>[INST] <<SYS>>\n",
      "\n",
      "You are an assistant that provides flood information relevant to the user queries. You may receive queries about flood alerts, Social Vulnerability Indexes (SVI) for a location, flood alerts, or display maps to the request of the user. Interactive maps are always displayed to the user. Always try your best to answer in natural language easy to understand using the available function calls.\n",
      "\n",
      "<</SYS>>\n",
      "\n",
      "For Bexar County in Texas please provide SVI for Housing Type/Transportation theme with an SVI score smaller than 1 [/INST]\n"
     ]
    }
   ],
   "source": [
    "# System message to set up the assistant's role\n",
    "your_system_message = \"\"\"\n",
    "You are an assistant that provides flood information relevant to the user queries. You may receive \\\n",
    "queries about flood alerts, Social Vulnerability Indexes (SVI) for a location, flood alerts, or display \\\n",
    "maps to the request of the user. Interactive maps are always displayed to the user. \\\n",
    "Always try your best to answer in natural language easy to understand using the available function calls.\n",
    "\"\"\"\n",
    "\n",
    "# Initialize the original prompt with the system message\n",
    "original_prompt = f\"<s>[INST] <<SYS>>\\n{your_system_message}\\n<</SYS>>\\n\\n\"\n",
    "\n",
    "# Function to manage the conversation flow\n",
    "def chat_function(role, message, previous_message=original_prompt):\n",
    "    \"\"\"\n",
    "    Inputs:\n",
    "    - previous_message: The message from the previous conversation (defaults to original system message)\n",
    "    - role: The role generating the current message (e.g., 'user' or 'assistant')\n",
    "    - message: The new message/question to add to the conversation\n",
    "    \n",
    "    Returns:\n",
    "    - Updated conversation log with the new message and answer from the assistant\n",
    "    \"\"\"\n",
    "    \n",
    "    # Add the user message to the conversation\n",
    "    if role == 'user':\n",
    "        if '</s>' not in previous_message:  # First user message after system setup\n",
    "            previous_message += f\"{message} [/INST]\"\n",
    "        else:  # For continuing conversations\n",
    "            previous_message += f\"<s>[INST] {message} [/INST]\"\n",
    "    \n",
    "    # Add the assistant's response to the conversation\n",
    "    elif role == 'assistant':\n",
    "        previous_message += f\"{message}</s>\"\n",
    "    \n",
    "    else:\n",
    "        print(\"Error: Invalid role\")\n",
    "    \n",
    "    return previous_message\n",
    "\n",
    "# Example of generating a user and assistant conversation flow\n",
    "conversation_log = original_prompt\n",
    "\n",
    "# Simulating user message\n",
    "user_message = \"For Bexar County in Texas please provide SVI for Housing Type/Transportation theme with an SVI score smaller than 1\"\n",
    "conversation_log = chat_function('user', user_message, conversation_log)\n",
    "\n",
    "\n",
    "# Print final conversation log\n",
    "print(conversation_log)\n"
   ]
  },
  {
   "cell_type": "code",
   "execution_count": 12,
   "metadata": {},
   "outputs": [
    {
     "name": "stdout",
     "output_type": "stream",
     "text": [
      "<s>[INST] <<SYS>>\n",
      "\n",
      "You are an assistant that provides flood information relevant to the user queries. You may receive queries about flood alerts, Social Vulnerability Indexes (SVI) for a location, flood alerts, or display maps to the request of the user. Interactive maps are always displayed to the user. Always try your best to answer in natural language easy to understand using the available function calls.\n",
      "\n",
      "<</SYS>>\n",
      "\n",
      "For Bexar County in Texas please provide SVI for Housing Type/Transportation theme with an SVI score smaller than 1 [/INST]{\"Statistics\":{\"Total_Areas\":1,\"Max_SVI\":0.8635,\"Min_SVI\":0.8635,\"Average_SVI\":0.8635},\"Census_Tracts\":[{\"FIPS\":48029,\"RPL_THEME2\":0.8635}]}</s>{\"Statistics\":{\"Total_Areas\":1,\"Max_SVI\":0.8635,\"Min_SVI\":0.8635,\"Average_SVI\":0.8635},\"Census_Tracts\":[{\"FIPS\":48029,\"RPL_THEME2\":0.8635}]}</s>\n"
     ]
    }
   ],
   "source": [
    "def call_function_based_on_query(query):\n",
    "    if \"SVI\" in query:\n",
    "        # Extract relevant details from the user message\n",
    "        state_abbr = \"TX\"  # Example extraction\n",
    "        county = \"Bexar\"  # Example extraction\n",
    "        theme = \"RPL_THEME2\"  # Housing Type/Transportation theme\n",
    "        op = \"<\"\n",
    "        threshold = 1\n",
    "        # Call the function\n",
    "        result = get_svi_stats_and_tracts(state_abbr, county, theme, op, threshold)\n",
    "        return result\n",
    "    else:\n",
    "        return \"Sorry, I couldn't find a relevant function for your query.\"\n",
    "\n",
    "# Update assistant response in the conversation based on the function call\n",
    "assistant_response = call_function_based_on_query(user_message)\n",
    "conversation_log = chat_function('assistant', assistant_response, conversation_log)\n",
    "\n",
    "# Print the updated conversation log with assistant response\n",
    "print(conversation_log)\n"
   ]
  }
 ],
 "metadata": {
  "kernelspec": {
   "display_name": "base",
   "language": "python",
   "name": "python3"
  },
  "language_info": {
   "codemirror_mode": {
    "name": "ipython",
    "version": 3
   },
   "file_extension": ".py",
   "mimetype": "text/x-python",
   "name": "python",
   "nbconvert_exporter": "python",
   "pygments_lexer": "ipython3",
   "version": "3.12.4"
  }
 },
 "nbformat": 4,
 "nbformat_minor": 2
}
